{
 "cells": [
  {
   "cell_type": "markdown",
   "metadata": {},
   "source": [
    "# **Introduction**\n",
    "\n",
    "In the modern era, Artificial Intelligence (AI) has become an integral part of our daily lives, revolutionizing industries and redefining the way we interact with technology. From self-driving cars to personalized medicine, the applications of AI are vast and transformative. However, with this rapid expansion comes a set of unique challenges that must be addressed to ensure the safe and effective deployment of AI systems.\n",
    "\n",
    "**Security** is paramount. As AI models become integral to critical systems, they become targets. Malicious actors are increasingly exploring ways to deceive and manipulate AI models through adversarial inputs. Such vulnerabilities can have dire consequences, especially in high-stakes applications like autonomous driving or medical diagnostics.\n",
    "\n",
    "**Bias** in AI is another pressing concern. Models trained on biased data can perpetuate or even exacerbate existing prejudices, leading to unfair or discriminatory outcomes. In content generation, for instance, unintended biases can manifest in outputs that are misleading or offensive.\n",
    "\n",
    "When it comes to **Large Language Models (LLMs)**, two additional challenges arise:\n",
    "\n",
    "- **Alignment**: It's crucial that these models not only generate coherent responses but also truly understand and adhere to user intent. Misalignment can lead to outputs that, while grammatically correct, might be contextually inappropriate or misleading.\n",
    "\n",
    "- **Safety**: Given the vast knowledge and generative capabilities of LLMs, there's a risk of producing outputs that could be harmful, misleading, or inappropriate. Ensuring the safety of these outputs is of utmost importance.\n",
    "\n",
    "To address these challenges, especially those related to security, tools like the **Adversarial Robustness Toolbox (ART)** have emerged as invaluable assets. Throughout this tutorial, we will use the ART library, a leading Python library dedicated to adversarial machine learning. It provides a rich set of functionalities to craft adversarial attacks, implement defenses, and evaluate the robustness of AI models.\n",
    "\n",
    "# Table of Contents\n",
    "* Background: AI Models and Adversarial Threats\n",
    "    1. Evasion Attacks\n",
    "    2. Poisoning Attacks\n",
    "    3. Extraction Attacks\n",
    "    4. Inference Attacks\n",
    "* Crafting Adversarial Examples\n",
    "* Defending Against Attacks\n",
    "    1. Defence Against Evasion Attacks\n",
    "    2. Defence Against Poisoning Attacks\n",
    "    3. Defence Against Extraction Attacks\n",
    "    4. Defence Against Inference Attacks\n",
    "* Conclusion and Further Reading"
   ]
  },
  {
   "cell_type": "markdown",
   "metadata": {},
   "source": [
    "---\n",
    "\n",
    "## **Background: AI Models and Threats**\n",
    "\n",
    "\n",
    "Artificial Intelligence (AI) systems are mathematical constructs trained to perform specific tasks by learning patterns from data. The most prevalent form of AI-systems today is machine learning (ML), where models are trained to make predictions or decisions based on input data. Deep learning is a subset of ML that uses neural networks to model complex patterns in large datasets. These models have been particularly successful in tasks like image processing, speech recognition, and natural language processing (NLP).\n",
    "\n",
    "However, these models are not infallible. Their reliance on data and the patterns they learn make them susceptible to various threats, especially when malicious actors aim to deceive or exploit them.\n",
    "\n",
    "<center><img src=\"imgs/adversarial_threats_attacker.PNG\" width=\"600\" height=\"400\"/></center>\n",
    "\n",
    "\n",
    "Understanding potential threats against AI-systems is crucial. Here, we introduce the most relevant attacks on AI-systems:\n",
    "\n",
    "\n",
    "\n",
    "### 1. **Evasion Attacks**:\n",
    "   In these attacks, attackers tweak the input data to deceive a trained model and cause a misclassification. This tweaked input is called an adversarial example. Evasion attacks can be separated into targeted attacks, where the attacker forces the model to predict a desired target value, and untargeted attacks that cause a general reduction in model accuracy or prediction confidence. These attacks can take place in both the physical and digital worlds.\n",
    "\n",
    "   One of the most famous examples is an image of a panda. By adding a small, almost imperceptible noise to the image, a deep learning model misclassifies it as a \"gibbon\" instead of a \"panda\", even though to human eyes, the image still clearly looks like a panda.\n",
    "\n",
    "   <center><img src=\"imgs/adversarial_example.PNG\" width=\"800\" height=\"300\"/></center>\n",
    "   \n",
    "   *_[Image Source](https://www.tensorflow.org/tutorials/generative/adversarial_fgsm)_*.\n",
    "\n",
    "   - **Physical World Application**: Evasion attacks are not limited to the digital space. For instance, psychedelic garments can be used to trick facial recognition software into misidentifying a person. By wearing clothes with specific patterns and colors, one can be misclassified as an animal, like a zebra or giraffe, effectively evading detection.\n",
    "\n",
    "   <center><img src=\"imgs/trick_ai_system.PNG\" width=\"800\" height=\"300\"/></center>\n",
    "\n",
    "   *_[Image Source](https://www.thisiscolossal.com/2023/02/capable-facial-recognition-textiles/)_*.\n",
    "   \n",
    "\n",
    "\n",
    "### 2. **Poisoning Attacks**:\n",
    "   In poisoning attacks, adversaries introduce malicious or incorrect data points into the AI system's training set during the training phase. This manipulation affects the model's behavior, leading to incorrect predictions or classifications during the inference phase. \n",
    "\n",
    "   - **Types of Poisoning Attacks**:\n",
    "        - **Accuracy Drop Attack**: This attack involves adding malicious samples to the training data to reduce the model’s performance during testing.\n",
    "        \n",
    "        - **Target Misclassification Attack**: The goal here is to manipulate the model so that specific test samples are incorrectly classified during testing.\n",
    "        \n",
    "        - **Backdoor Attack**: Attackers insert a trigger in the input that causes a predetermined response from the model, while the system performs normally when the trigger is absent. For example, [researchers](https://arxiv.org/pdf/1708.06733v1.pdf) trained an image recognition AI to misinterpret a Stop road sign as a speed limit indicator when objects like a Post-it, a bomb sticker, or a flower sticker were placed on the Stop sign. \n",
    "\n",
    "      <center><img src=\"imgs/AI-backdoor-sign.PNG\" width=\"800\" height=\"250\"/></center>\n",
    "\n",
    "       *_[Image Source](https://arxiv.org/pdf/1708.06733v1.pdf)_*.\n",
    "\n",
    "\n",
    "\n",
    "### 3. **Extraction Attacks**:\n",
    "   The primary goal of extraction attacks is to steal or replicate the architecture, parameters, or knowledge embedded in a machine learning model. Attackers aim to create a similar model without authorization.\n",
    "   \n",
    "   **How they do it**: Attackers query the target model multiple times and use the outputs to understand the model's behavior, structure, or parameters. They may try to reverse-engineer the model or train a functionally equivalent model using the obtained results.\n",
    "   These attacks often target machine learning models deployed as a service, where users can input data and receive predictions without having direct access to the model's parameters or architecture.\n",
    "\n",
    "   **Example**: An attacker sends a variety of inputs to a machine learning model and collects the corresponding outputs. They then use this data to train a replica of the target model.\n",
    "\n",
    "### 4. **Inference Attacks**:\n",
    "\n",
    "These attacks try to figure out information about the data used to train the model. They're not about copying the model but learning secrets about the data it was trained on.\n",
    "\n",
    "**How they do it**:Attackers analyze the model’s predictions to gain insights into the data it was trained on. They might use this to uncover sensitive or private information about individual data points or overall data distributions.\n",
    "\n",
    "**Example**: An attacker queries a machine learning model trained on medical data and, by analyzing the outputs, is able to infer whether specific individuals’ data were included in the training set, or deduce sensitive attributes like a particular medical condition.\n",
    "\n",
    "\n",
    "> - **Extraction Attacks**: Focus on stealing the model's architecture, parameters, or embedded knowledge to replicate the model.\n",
    "> - **Inference Attacks**: Focus on uncovering sensitive information about the model’s training data, leading to potential privacy violations.\n",
    "\n",
    "\n",
    "Understanding these threats is the first step in the journey of AI robustness and security. As we delve deeper into this tutorial, we'll explore how these attacks are crafted. Specifically, we will go through a hands-on example of a popular approach to creating adversarial examples, namely the Fast Gradient Sign Method (FGSM). This method showcases how seemingly minor perturbations to input data can lead to significant misclassifications by AI models. Using the Adversarial Robustness Toolbox (ART), we'll demonstrate the practical implementation of FGSM and how models can be defended against such attacks."
   ]
  },
  {
   "cell_type": "markdown",
   "metadata": {},
   "source": [
    "# Crafting Adversarial Examples:\n",
    "In this section, we will demonstrate a simple example of using [ART](https://github.com/Trusted-AI/adversarial-robustness-toolbox).  ART provides tools that enable developers and researchers to defend and evaluate Machine Learning models against the adversarial threats of Evasion, Poisoning, Extraction, and Inference. \n",
    "\n",
    "For the scope of this article, we will focus on an evasion attack, showcasing how adversarial examples can be crafted to mislead a trained model during the inference phase. In subsequent articles, we will explore other types of threats, delving into poisoning, extraction, and inference attacks, and demonstrating how to mitigate these risks.\n",
    "\n",
    "The example here trains a convolutional neural network on the MNIST dataset and creates adversarial examples using the Fast Gradient Sign Method. We use the ART classifier to train the model. Let's import the necessary libraries and set a seed for reproducibility."
   ]
  },
  {
   "cell_type": "code",
   "execution_count": 1,
   "metadata": {},
   "outputs": [],
   "source": [
    "import numpy as np\n",
    "import torch\n",
    "from torch import nn\n",
    "import torch.nn.functional as F\n",
    "import torch.optim as optim\n",
    "\n",
    "import torchvision\n",
    "from torchvision import datasets\n",
    "from torch.utils.data import DataLoader\n",
    "from torchvision.transforms import ToTensor\n",
    "\n",
    "import matplotlib.pyplot as plt\n",
    "\n",
    "from art.attacks.evasion import FastGradientMethod\n",
    "from art.estimators.classification import PyTorchClassifier\n",
    "from art.utils import load_mnist\n",
    "\n",
    "torch.manual_seed(42)\n",
    "from tqdm.auto import tqdm"
   ]
  },
  {
   "cell_type": "markdown",
   "metadata": {},
   "source": [
    "We're loading the MNIST dataset and preparing it for PyTorch processing:"
   ]
  },
  {
   "cell_type": "code",
   "execution_count": 2,
   "metadata": {},
   "outputs": [
    {
     "data": {
      "text/plain": [
       "((60000, 1, 28, 28), (60000, 10))"
      ]
     },
     "execution_count": 2,
     "metadata": {},
     "output_type": "execute_result"
    }
   ],
   "source": [
    "# Step 1: Load the MNIST dataset\n",
    "\n",
    "(x_train, y_train), (x_test, y_test), min_pixel_value, max_pixel_value = load_mnist()\n",
    "\n",
    "# Step 1a: Swap axes to PyTorch's NCHW format (batch size, channels, height, width)\n",
    "\n",
    "x_train = np.transpose(x_train, (0, 3, 1, 2)).astype(np.float32)\n",
    "x_test = np.transpose(x_test, (0, 3, 1, 2)).astype(np.float32)\n",
    "\n",
    "x_train.shape, y_train.shape\n"
   ]
  },
  {
   "cell_type": "markdown",
   "metadata": {},
   "source": [
    "Let's visualize a subset of images from the training dataset."
   ]
  },
  {
   "cell_type": "code",
   "execution_count": 3,
   "metadata": {},
   "outputs": [
    {
     "data": {
      "image/png": "[encoded data removed]",
      "text/plain": [
       "<Figure size 600x300 with 6 Axes>"
      ]
     },
     "metadata": {},
     "output_type": "display_data"
    }
   ],
   "source": [
    "fig = plt.figure(figsize=(6, 3))\n",
    "rows, cols = 2, 3\n",
    "for i in range(1, rows * cols + 1):\n",
    "    random_idx = torch.randint(0, len(x_train), size=[1]).item()\n",
    "    img = x_train[random_idx]\n",
    "    fig.add_subplot(rows, cols, i)\n",
    "    plt.imshow(img.squeeze(), cmap=\"gray\")\n",
    "    plt.axis(False)"
   ]
  },
  {
   "cell_type": "markdown",
   "metadata": {},
   "source": [
    "In the following code, we define a TinyVGG-like model for classifying MNIST data, utilizing cross-entropy loss and the SGD optimizer:"
   ]
  },
  {
   "cell_type": "code",
   "execution_count": 4,
   "metadata": {},
   "outputs": [
    {
     "name": "stdout",
     "output_type": "stream",
     "text": [
      "Using device: cpu\n"
     ]
    }
   ],
   "source": [
    "# Step 2: Define the neural network model\n",
    "class MNISTModel(nn.Module):\n",
    "    \"\"\"\n",
    "    Model architecture copying TinyVGG from: \n",
    "    https://poloclub.github.io/cnn-explainer/\n",
    "    \"\"\"\n",
    "    def __init__(self, input_shape: int, hidden_units: int, output_shape: int):\n",
    "        super().__init__()\n",
    "        self.block_1 = nn.Sequential(\n",
    "            nn.Conv2d(in_channels=input_shape, \n",
    "                      out_channels=hidden_units, \n",
    "                      kernel_size=3, # how big is the square that's going over the image?\n",
    "                      stride=1,      # default\n",
    "                      padding=1),# options = \"valid\" (no padding) or \"same\" (output has same shape as input) or int for specific number \n",
    "            nn.ReLU(),\n",
    "            nn.Conv2d(in_channels=hidden_units, \n",
    "                      out_channels=hidden_units,\n",
    "                      kernel_size=3,\n",
    "                      stride=1,\n",
    "                      padding=1),\n",
    "            nn.ReLU(),\n",
    "            nn.MaxPool2d(kernel_size=2,\n",
    "                         stride=2) # default stride value is same as kernel_size\n",
    "        )\n",
    "        self.block_2 = nn.Sequential(\n",
    "            nn.Conv2d(hidden_units, hidden_units, 3, padding=1),\n",
    "            nn.ReLU(),\n",
    "            nn.Conv2d(hidden_units, hidden_units, 3, padding=1),\n",
    "            nn.ReLU(),\n",
    "            nn.MaxPool2d(2)\n",
    "        )\n",
    "        self.classifier = nn.Sequential(\n",
    "            nn.Flatten(),\n",
    "            # Where did this in_features shape come from? \n",
    "            # It's because each layer of our network compresses and changes the shape of our inputs data.\n",
    "            nn.Linear(in_features=hidden_units*7*7, \n",
    "                      out_features=output_shape)\n",
    "        )\n",
    "    \n",
    "    def forward(self, x: torch.Tensor):\n",
    "        x = self.block_1(x)\n",
    "        x = self.block_2(x)\n",
    "        x = self.classifier(x)\n",
    "        return x\n",
    "\n",
    "# Setup device agnostic code\n",
    "device = \"cuda\" if torch.cuda.is_available() else \"cpu\"\n",
    "print(f\"Using device: {device}\")\n",
    "\n",
    "model = MNISTModel(input_shape=1, \n",
    "    hidden_units=10, \n",
    "    output_shape=len(y_train[0])).to(device)\n",
    "\n",
    "# Define the loss function and the optimizer\n",
    "loss_fn = nn.CrossEntropyLoss()\n",
    "optimizer = torch.optim.SGD(params=model.parameters(), \n",
    "                            lr=0.1)"
   ]
  },
  {
   "cell_type": "markdown",
   "metadata": {},
   "source": [
    "In this step, we're integrating the previously defined PyTorch model with ART by creating an `ART classifier`. The ``PyTorchClassifier`` is initialized with several parameters including the model, clipping values for input data and a loss function. This wraps the PyTorch model, allowing it to **interact seamlessly** with various ART functionalities:"
   ]
  },
  {
   "cell_type": "code",
   "execution_count": 5,
   "metadata": {},
   "outputs": [],
   "source": [
    "# Step 3: Create the ART classifier \n",
    "\n",
    "classifier = PyTorchClassifier(\n",
    "    model=model,\n",
    "    clip_values=(0.0, 255.0),\n",
    "    loss=loss_fn,\n",
    "    optimizer=optimizer,\n",
    "    input_shape=(1, 28, 28),\n",
    "    nb_classes=len(y_train[0]),\n",
    "    device_type=device\n",
    ")\n",
    "\n",
    "# Step 4: Train the ART classifier\n",
    "\n",
    "classifier.fit(x_train, y_train, batch_size=64, nb_epochs=3)"
   ]
  },
  {
   "cell_type": "code",
   "execution_count": 6,
   "metadata": {},
   "outputs": [
    {
     "name": "stdout",
     "output_type": "stream",
     "text": [
      "Accuracy on benign test examples: 97.82%\n"
     ]
    }
   ],
   "source": [
    "# Step 5: Evaluate the ART classifier on benign (non-adversarial) test examples\n",
    "\n",
    "predictions = classifier.predict(x_test)\n",
    "accuracy = np.sum(np.argmax(predictions, axis=1) == np.argmax(y_test, axis=1)) / len(y_test)\n",
    "print(\"Accuracy on benign test examples: {}%\".format(accuracy * 100))"
   ]
  },
  {
   "cell_type": "markdown",
   "metadata": {},
   "source": [
    "This high accuracy indicates that our classifier is highly effective in correctly classifying non-adversarial images. Let's generate adversarial test examples using the Fast Gradient Method and see how well the model is able to classify them:"
   ]
  },
  {
   "cell_type": "code",
   "execution_count": 9,
   "metadata": {},
   "outputs": [
    {
     "data": {
      "image/png": "[encoded data removed]",
      "text/plain": [
       "<Figure size 600x400 with 8 Axes>"
      ]
     },
     "metadata": {},
     "output_type": "display_data"
    }
   ],
   "source": [
    "# Step 6: Generate adversarial test examples\n",
    "attack = FastGradientMethod(estimator=classifier, eps=0.2)\n",
    "x_test_adv = attack.generate(x=x_test)\n",
    "\n",
    "# Plot adversarial examples beside the original ones\n",
    "fig = plt.figure(figsize=(6, 4))  \n",
    "rows, cols = 2, 2\n",
    "\n",
    "for i in range(rows):\n",
    "    for j in range(cols):\n",
    "        random_idx = torch.randint(0, len(x_test_adv), size=[1]).item()\n",
    "        \n",
    "        # Plot original image\n",
    "        ax1 = fig.add_subplot(rows, 2*cols, 2*j + 1 + i*2*cols)\n",
    "        ax1.imshow(x_test[random_idx].squeeze(), cmap=\"gray\")\n",
    "        ax1.set_title(\"Original\")\n",
    "        ax1.axis(False)\n",
    "        \n",
    "        # Plot adversarial image\n",
    "        ax2 = fig.add_subplot(rows, 2*cols, 2*j + 2 + i*2*cols)\n",
    "        ax2.imshow(x_test_adv[random_idx].squeeze(), cmap=\"gray\")\n",
    "        ax2.set_title(\"Adversarial\")\n",
    "        ax2.axis(False)\n",
    "\n",
    "plt.tight_layout()\n",
    "plt.show()"
   ]
  },
  {
   "cell_type": "code",
   "execution_count": 10,
   "metadata": {},
   "outputs": [
    {
     "name": "stdout",
     "output_type": "stream",
     "text": [
      "Accuracy on adversarial test examples: 11.74%\n"
     ]
    }
   ],
   "source": [
    "# Step 7: Evaluate the ART classifier on adversarial test examples\n",
    "\n",
    "predictions = classifier.predict(x_test_adv)\n",
    "accuracy = np.sum(np.argmax(predictions, axis=1) == np.argmax(y_test, axis=1)) / len(y_test)\n",
    "print(\"Accuracy on adversarial test examples: {}%\".format(accuracy * 100))"
   ]
  },
  {
   "cell_type": "markdown",
   "metadata": {},
   "source": [
    "The sharp drop in accuracy on adversarial test examples underscores the model's vulnerability to adversarial attacks. Despite performing well on benign test examples, the model struggles significantly when faced with inputs that have been subtly and maliciously perturbed, highlighting a critical area for improvement in enhancing the model's robustness against such attacks."
   ]
  },
  {
   "cell_type": "markdown",
   "metadata": {},
   "source": [
    "# **Defending Against Attacks**\n",
    "\n",
    "Various defense strategies can be employed depending on the type of attack. Below, we outline some methods to counter evasion, poisoning, extraction, and inference attacks. \n",
    "\n",
    "### 1. **Defence Against Evasion Attacks:**\n",
    "   - **Adversarial Retraining:** This method involves iteratively generating adversarial examples and incorporating them into the training dataset. The model is then repeatedly trained on this augmented dataset, enhancing its robustness against specific adversarial perturbations.\n",
    "   - **Data Diversity:** Enriching the dataset with a diverse and high quality training data ensures better generalization and resilience against evasion attacks.\n",
    "\n",
    "### 2. **Defence Against Poisoning Attacks:**\n",
    "   - **Verified Sources and Developers:** Validate the credibility of both the sources providing training data, models, and code, and the developers involved, to safeguard against the integration of malicious elements.\n",
    "   - **Find Triggers:** Implement mechanisms to detect unusual patterns or triggers that indicate backdoor attacks.\n",
    "   - **Retraining:** Regularly update and retrain models with clean, verified data to mitigate the effects of poisoning.\n",
    "   - **Regularization:** Apply techniques to limit the complexity of the model, reducing its susceptibility to overfitting on poisoned data.\n",
    "\n",
    "### 3. **Defence Against Extraction Attacks:**\n",
    "   - **Output Restriction:** Limiting the scope or precision of the model’s output values can increase the effort required for attackers to replicate the model.\n",
    "   - **Rate Limiting:** Implement restrictions on the number of queries to the model to make extraction more challenging.\n",
    "\n",
    "### 4. **Defence Against Inference Attacks:**\n",
    "   - **Data Sanitization:** Use anonymization techniques to remove sensitive data, making it difficult for attackers to access private information.\n",
    "   - **Differential Privacy:** Introduce controlled noise to the data or queries, ensuring that the output does not reveal sensitive information about individual data points while maintaining overall data utility.\n",
    "\n",
    "Before deploying your ML model, conduct a risk analysis to assess the potential impact and likelihood of attacks. Simulating specific attacks is also advisable to evaluate your system's vulnerabilities and the efficacy of your defense strategies.\n",
    "\n",
    "Let's continue with our example above to perform adversarial retraining on our convolutional classifier:"
   ]
  },
  {
   "cell_type": "code",
   "execution_count": 11,
   "metadata": {},
   "outputs": [],
   "source": [
    "# Step 8: Generate adversarial training examples\n",
    "x_train_adversarial = attack.generate(x=x_train[:2000])\n",
    "y_train_adversarial = y_train[:2000]\n",
    "\n",
    "x_train_combined = np.concatenate((x_train, x_train_adversarial))\n",
    "y_train_combined = np.concatenate((y_train, y_train_adversarial))"
   ]
  },
  {
   "cell_type": "code",
   "execution_count": 12,
   "metadata": {},
   "outputs": [],
   "source": [
    "# Step 9: Retrain the ART classifier on combined (original and adversarial) training examples\n",
    "\n",
    "classifier.fit(x_train_combined, y_train_combined, batch_size=64, nb_epochs=3)"
   ]
  },
  {
   "cell_type": "code",
   "execution_count": 13,
   "metadata": {},
   "outputs": [
    {
     "name": "stdout",
     "output_type": "stream",
     "text": [
      "Accuracy on adversarial test examples: 88.23%\n"
     ]
    }
   ],
   "source": [
    "# Step 10: Evaluate the ART classifier on adversarial test examples\n",
    "\n",
    "predictions = classifier.predict(x_test_adv)\n",
    "accuracy = np.sum(np.argmax(predictions, axis=1) == np.argmax(y_test, axis=1)) / len(y_test)\n",
    "print(\"Accuracy on adversarial test examples: {}%\".format(accuracy * 100))"
   ]
  },
  {
   "cell_type": "markdown",
   "metadata": {},
   "source": [
    "As expected, the increased accuracy indicates that the model has become more robust following adversarial retraining. \n",
    "\n",
    "You can repeat steps 3-5 until the model is sufficiently adversarially robust. It is worth mentioning that adversarial retraining can lead to overfitting. Therefore, there are a number of things that can be done to reduce the risk of overfitting when performing adversarial retraining:\n",
    "\n",
    "* Use a variety of adversarial attacks to generate adversarial examples. This will help to ensure that the model is robust to a wide range of adversarial attacks, rather than just a specific type of attack.\n",
    "* Use a large and diverse training dataset. This will help to ensure that the model is able to generalize to new data, even if the adversarial examples used to train the model are not perfectly representative of all possible adversarial attacks.\n",
    "* Use early stopping: monitor the model's performance on a validation set and stop training when the performance starts to degrade."
   ]
  },
  {
   "cell_type": "markdown",
   "metadata": {},
   "source": [
    "# Conclusion and Further Reading:\n",
    "\n",
    "In this article, we’ve explored AI security, focusing on the challenges of different types of attacks and how to defend against them. We used the Adversarial Robustness Toolbox (ART) to show real-world examples of these challenges and solutions.\n",
    "\n",
    "As AI becomes more ingrained in our daily lives and business operations, and especially with the advent of powerful tools like LLMs, securing these systems against malicious attacks is paramount.\n",
    "\n",
    "For those looking to dig deeper, there are many specialized resources available that offer more comprehensive information on AI security:\n",
    "* [Artificial Intelligence (AI) Governance and Cyber-Security: A beginner’s handbook on securing and governing AI systems](https://www.amazon.de/-/en/Taimur-Ijlal/dp/B09YHK8L2T).\n",
    "* [AI security concerns in a nutshell - Practical AI-Security guide](https://www.bsi.bund.de/SharedDocs/Downloads/EN/BSI/KI/Practical_Al-Security_Guide_2023.html).\n",
    "* [AI-systems: develop them securely](https://english.aivd.nl/publications/publications/2023/02/15/ai-systems-develop-them-securely).\n",
    "* [Securing Machine Learning Algorithms](https://www.enisa.europa.eu/publications/securing-machine-learning-algorithms).\n",
    "\n",
    "\n"
   ]
  },
  {
   "cell_type": "markdown",
   "metadata": {},
   "source": []
  }
 ],
 "metadata": {
  "kernelspec": {
   "display_name": ".venv",
   "language": "python",
   "name": "python3"
  },
  "language_info": {
   "codemirror_mode": {
    "name": "ipython",
    "version": 3
   },
   "file_extension": ".py",
   "mimetype": "text/x-python",
   "name": "python",
   "nbconvert_exporter": "python",
   "pygments_lexer": "ipython3",
   "version": "3.10.5"
  }
 },
 "nbformat": 4,
 "nbformat_minor": 2
}
